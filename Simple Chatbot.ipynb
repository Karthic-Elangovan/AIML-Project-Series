{
 "cells": [
  {
   "cell_type": "code",
   "execution_count": 1,
   "id": "f6b3cb66-63e9-41c4-9778-62399ebb8e37",
   "metadata": {},
   "outputs": [],
   "source": [
    "import random\n",
    "import re"
   ]
  },
  {
   "cell_type": "code",
   "execution_count": 3,
   "id": "903f9358-644a-469c-95c0-3d83f85eca54",
   "metadata": {},
   "outputs": [],
   "source": [
    "class BuddyBot:\n",
    "    def __init__(self):\n",
    "        self.user_data = {}\n",
    "        self.context = {}\n",
    "        self.greetings = [\"Hello!\", \"Hi there!\", \"Hey!\"]\n",
    "        self.farewells = [\"Goodbye!\", \"See you later!\", \"Bye!\"]\n",
    "        self.basic_responses = {\n",
    "            \"how are you?\": \"I'm a chatbot, so I'm always fine!\",\n",
    "            \"what is your name?\": \"I'm AdvancedBot, your virtual assistant.\",\n",
    "            \"what can you do?\": \"I can chat with you, remember our conversation, and help you with various tasks.\",\n",
    "            \"tell me a joke\": \"Why don't scientists trust atoms? Because they make up everything!\",\n",
    "            \"what's the weather like?\": \"I don't have access to real-time data, but it's always sunny in the virtual world!\"\n",
    "        }\n",
    "        self.questions = [\"What's your name?\", \"How can I assist you today?\", \"Do you like chatting with bots?\"]\n",
    "        self.current_question_index = {}\n",
    "\n",
    "    def greet(self, user_id):\n",
    "        greeting = random.choice(self.greetings)\n",
    "        self._update_context(user_id, greeting)\n",
    "        return greeting\n",
    "\n",
    "    def farewell(self, user_id):\n",
    "        farewell = random.choice(self.farewells)\n",
    "        self._update_context(user_id, farewell)\n",
    "        return farewell\n",
    "\n",
    "    def respond_to_question(self, user_id, user_input):\n",
    "        user_input = self._sanitize_input(user_input)\n",
    "        response = self.basic_responses.get(user_input, None)\n",
    "        if response:\n",
    "            self._update_context(user_id, f\"User: {user_input}\", f\"Bot: {response}\")\n",
    "            return response\n",
    "        elif \"name\" in user_input:\n",
    "            return self._handle_name_question(user_id, user_input)\n",
    "        else:\n",
    "            return self.handle_unknown_input(user_id)\n",
    "\n",
    "    def ask_question(self, user_id):\n",
    "        if user_id not in self.current_question_index:\n",
    "            self.current_question_index[user_id] = 0\n",
    "\n",
    "        if self.current_question_index[user_id] < len(self.questions):\n",
    "            question = self.questions[self.current_question_index[user_id]]\n",
    "            self._update_context(user_id, f\"Bot: {question}\")\n",
    "            self.current_question_index[user_id] += 1\n",
    "            return question\n",
    "        return None\n",
    "\n",
    "    def handle_unknown_input(self, user_id):\n",
    "        response = \"I'm not sure how to respond to that. Can you ask something else?\"\n",
    "        self._update_context(user_id, \"Bot: Error - Unknown input\", f\"Bot: {response}\")\n",
    "        return response\n",
    "\n",
    "    def register_user(self, user_id, name):\n",
    "        self.user_data[user_id] = {\"name\": name}\n",
    "        self._update_context(user_id, f\"Bot: Registered user as {name}\")\n",
    "        return f\"Nice to meet you, {name}!\"\n",
    "\n",
    "    def _update_context(self, user_id, *messages):\n",
    "        if user_id not in self.context:\n",
    "            self.context[user_id] = []\n",
    "        self.context[user_id].extend(messages)\n",
    "\n",
    "    def _sanitize_input(self, user_input):\n",
    "        return re.sub(r'\\W+', ' ', user_input).strip().lower()\n",
    "\n",
    "    def _handle_name_question(self, user_id, user_input):\n",
    "        if user_id in self.user_data and \"name\" in self.user_data[user_id]:\n",
    "            name = self.user_data[user_id][\"name\"]\n",
    "            response = f\"You told me your name is {name}.\"\n",
    "        else:\n",
    "            response = \"I don't think I know your name yet.\"\n",
    "        self._update_context(user_id, f\"User: {user_input}\", f\"Bot: {response}\")\n",
    "        return response"
   ]
  },
  {
   "cell_type": "code",
   "execution_count": 4,
   "id": "4e777c20-5b73-433c-936a-7c601079288e",
   "metadata": {},
   "outputs": [],
   "source": [
    "# Example of using the BuddyBot class\n",
    "chatbot = BuddyBot()"
   ]
  },
  {
   "cell_type": "code",
   "execution_count": 5,
   "id": "2c0a442b-90be-42c6-8f8e-da71578b3b50",
   "metadata": {},
   "outputs": [],
   "source": [
    "# Simulate a conversation with user_id = 1\n",
    "user_id = 1"
   ]
  },
  {
   "cell_type": "code",
   "execution_count": 9,
   "id": "cced7aac-be0f-4f54-a4ce-24276af7f005",
   "metadata": {},
   "outputs": [
    {
     "name": "stdout",
     "output_type": "stream",
     "text": [
      "Hello!\n",
      "What's your name?\n",
      "Nice to meet you, John!\n",
      "How can I assist you today?\n",
      "I'm not sure how to respond to that. Can you ask something else?\n",
      "Do you like chatting with bots?\n",
      "Bye!\n"
     ]
    }
   ],
   "source": [
    "# User registration and interaction\n",
    "print(chatbot.greet(user_id))  # Greeting\n",
    "print(chatbot.ask_question(user_id))  # Bot asks for user's name\n",
    "print(chatbot.register_user(user_id, \"John\"))  # User provides name\n",
    "print(chatbot.ask_question(user_id))  # Bot asks another question\n",
    "print(chatbot.respond_to_question(user_id, \"I need help with my order\"))  # User responds\n",
    "print(chatbot.ask_question(user_id))  # Bot asks another question\n",
    "print(chatbot.farewell(user_id))  # Farewell"
   ]
  },
  {
   "cell_type": "code",
   "execution_count": 11,
   "id": "0ab4b042-93d9-44a7-ada4-e95d919097ed",
   "metadata": {},
   "outputs": [
    {
     "name": "stdout",
     "output_type": "stream",
     "text": [
      "['Hello!', \"Bot: What's your name?\", 'Bot: Registered user as John', 'Bot: How can I assist you today?', 'Bot: Error - Unknown input', \"Bot: I'm not sure how to respond to that. Can you ask something else?\", 'Bot: Do you like chatting with bots?', 'Bye!']\n"
     ]
    }
   ],
   "source": [
    "# Print the context to show conversation history\n",
    "print(chatbot.context[user_id])"
   ]
  },
  {
   "cell_type": "code",
   "execution_count": null,
   "id": "6cd7dfeb-df16-4bb6-8f5e-fa895982332b",
   "metadata": {},
   "outputs": [],
   "source": []
  }
 ],
 "metadata": {
  "kernelspec": {
   "display_name": "Python 3 (ipykernel)",
   "language": "python",
   "name": "python3"
  },
  "language_info": {
   "codemirror_mode": {
    "name": "ipython",
    "version": 3
   },
   "file_extension": ".py",
   "mimetype": "text/x-python",
   "name": "python",
   "nbconvert_exporter": "python",
   "pygments_lexer": "ipython3",
   "version": "3.12.4"
  }
 },
 "nbformat": 4,
 "nbformat_minor": 5
}
