{
 "cells": [
  {
   "cell_type": "code",
   "execution_count": 55,
   "id": "4b84fad4-8b58-4426-84ad-f47446ed73bc",
   "metadata": {},
   "outputs": [],
   "source": [
    "import nltk\n",
    "from nltk.tokenize import word_tokenize\n",
    "from nltk.corpus import stopwords\n",
    "from nltk.stem import WordNetLemmatizer\n",
    "import re\n",
    "from textblob import TextBlob"
   ]
  },
  {
   "cell_type": "code",
   "execution_count": 57,
   "id": "c6a9a7cf-2b24-4715-bbdf-81d4b74912ef",
   "metadata": {},
   "outputs": [],
   "source": [
    "class AdmissionChatbot:\n",
    "    def __init__(self):\n",
    "        self.context = {'program': None, 'concerns': []}\n",
    "        self.programs = {\n",
    "            'engineering': {\n",
    "                'keywords': ['engineering', 'engineer'],\n",
    "                'deadline': \"September 15th\",\n",
    "                'requirements': \"Academic transcripts, standardized test scores (SAT/ACT), letters of recommendation, and a personal statement focusing on your interest in engineering.\",\n",
    "                'courses': \"Calculus, Physics, Chemistry, Introduction to Engineering\",\n",
    "                'faculty': \"Dr. Jane Smith (Department Head), Dr. John Doe (Robotics Specialist)\"\n",
    "            },\n",
    "            'business': {\n",
    "                'keywords': ['business', 'commerce', 'management'],\n",
    "                'deadline': \"September 28th\",\n",
    "                'requirements': \"Academic transcripts, standardized test scores (SAT/ACT), letters of recommendation, and a personal statement highlighting your leadership experiences.\",\n",
    "                'courses': \"Economics, Accounting, Business Ethics, Marketing\",\n",
    "                'faculty': \"Prof. Emily Johnson (Marketing), Dr. Michael Brown (Finance)\"\n",
    "            },\n",
    "            'computer science': {\n",
    "                'keywords': ['computer science', 'cs', 'informatics', 'computing'],\n",
    "                'deadline': \"September 1st\",\n",
    "                'requirements': \"Academic transcripts with strong math and science grades, standardized test scores (SAT/ACT), letters of recommendation, and a personal statement describing your coding projects or experiences.\",\n",
    "                'courses': \"Data Structures, Algorithms, Database Systems, Artificial Intelligence\",\n",
    "                'faculty': \"Dr. Sarah Lee (AI Researcher), Prof. David Wang (Cybersecurity Expert)\"\n",
    "            },\n",
    "            'medicine': {\n",
    "                'keywords': ['medicine', 'medical', 'med','medicinal'],\n",
    "                'deadline': \"September 1st\",\n",
    "                'requirements': \"Academic transcripts with pre-med coursework, MCAT scores, letters of recommendation, and a personal statement describing your motivation for pursuing medicine.\",\n",
    "                'courses': \"Anatomy, Physiology, Biochemistry, Medical Ethics\",\n",
    "                'faculty': \"Dr. Robert Chen (Neurology), Dr. Lisa Patel (Cardiology)\"\n",
    "            },\n",
    "            'law': {\n",
    "                'keywords': ['law', 'legal', 'jurisprudence'],\n",
    "                'deadline': \"September 20th\",\n",
    "                'requirements': \"Academic transcripts, LSAT scores, letters of recommendation, and a personal statement outlining your interest in law and relevant experiences.\",\n",
    "                'courses': \"Constitutional Law, Criminal Law, Civil Procedure, Legal Writing\",\n",
    "                'faculty': \"Prof. Amanda Garcia (Criminal Law), Dr. Thomas Wilson (International Law)\"\n",
    "            },\n",
    "            'psychology': {\n",
    "                'keywords': ['psychology', 'psychological'],\n",
    "                'deadline': \"September 5th\",\n",
    "                'requirements': \"Academic transcripts, standardized test scores (SAT/ACT), letters of recommendation, and a personal statement describing your interest in psychology and any research experience.\",\n",
    "                'courses': \"Introduction to Psychology, Research Methods, Cognitive Psychology, Abnormal Psychology\",\n",
    "                'faculty': \"Dr. Rachel Green (Clinical Psychology), Prof. Mark Taylor (Developmental Psychology)\"\n",
    "            },\n",
    "            'arts': {\n",
    "                'keywords': ['arts', 'fine arts', 'art'],\n",
    "                'deadline': \"September 10th\",\n",
    "                'requirements': \"Academic transcripts, standardized test scores (SAT/ACT), letters of recommendation, a personal statement, and a portfolio of your work.\",\n",
    "                'courses': \"Art History, Studio Art, Digital Media, Sculpture\",\n",
    "                'faculty': \"Prof. Olivia White (Fine Arts), Dr. James Black (Art History)\"\n",
    "            }\n",
    "        }\n",
    "        nltk.download('punkt', quiet=True)\n",
    "        nltk.download('stopwords', quiet=True)\n",
    "        nltk.download('wordnet', quiet=True)\n",
    "        self.stop_words = set(stopwords.words('english'))\n",
    "        self.lemmatizer = WordNetLemmatizer()\n",
    "\n",
    "    def start_conversation(self):\n",
    "        print(\"Welcome to College Admission Chatbot! How can I assist you today?\")\n",
    "        while True:\n",
    "            user_input = input(\"You: \").lower()\n",
    "            if \"goodbye\" in user_input or \"bye\" in user_input:\n",
    "                print(\"Chatbot: Thank you for using our admission chatbot. If you have any more questions in the future, feel free to ask. Goodbye!\")\n",
    "                break\n",
    "            response = self.generate_response(user_input)\n",
    "            print(\"Chatbot:\", response)\n",
    "\n",
    "    def preprocess_text(self, text):\n",
    "        text = re.sub(r'[^\\w\\s]', '', text)\n",
    "        tokens = word_tokenize(text)\n",
    "        tokens = [self.lemmatizer.lemmatize(token) for token in tokens if token.isalnum()]\n",
    "        tokens = [token for token in tokens if token not in self.stop_words]\n",
    "        return tokens\n",
    "\n",
    "    def generate_response(self, user_input):\n",
    "        user_tokens = self.preprocess_text(user_input)\n",
    "        sentiment = TextBlob(user_input).sentiment.polarity\n",
    "\n",
    "        if \"help\" in user_tokens:\n",
    "            return self.get_help_message()\n",
    "\n",
    "        if sentiment < -0.2:\n",
    "            return \"I sense that you might be frustrated. I'm here to help. Could you please tell me more about your concerns regarding the admission process?\"\n",
    "\n",
    "        # Handle greetings and general inquiries\n",
    "        greetings = [\"hi\", \"hello\", \"hey\", \"greetings\"]\n",
    "        if any(word in user_tokens for word in greetings):\n",
    "            return \"Hello! Welcome to our college admissions chatbot. How can I assist you today? You can ask about admission requirements, procedures, deadlines, or specific programs.\"\n",
    "\n",
    "        if \"question\" in user_tokens or \"information\" in user_tokens:\n",
    "            return \"I'd be happy to help! Our college offers admission to various programs including Engineering, Business, Computer Science, Medicine, Law, Psychology, and Arts. What specific information do you need? You can ask about requirements, procedures, deadlines, or particular programs.\"\n",
    "\n",
    "        # Check context for personalization\n",
    "        if self.context['program']:\n",
    "            program = self.context['program']\n",
    "            if \"deadline\" in user_tokens:\n",
    "                return f\"The deadline for the {program.capitalize()} program is {self.programs[program]['deadline']}. Do you need any other information about this program?\"\n",
    "            elif \"requirement\" in user_tokens:\n",
    "                return f\"The requirements for the {program.capitalize()} program are: {self.programs[program]['requirements']} Is there anything else you'd like to know?\"\n",
    "            elif \"course\" in user_tokens or \"classes\" in user_tokens:\n",
    "                return f\"Some key courses in the {program.capitalize()} program include: {self.programs[program]['courses']}. Would you like to know about the faculty?\"\n",
    "            elif \"faculty\" in user_tokens or \"professor\" in user_tokens:\n",
    "                return f\"Key faculty members in the {program.capitalize()} program include: {self.programs[program]['faculty']}. Is there anything else you'd like to know about this program?\"\n",
    "\n",
    "        # General Admission Information\n",
    "        if any(word in user_tokens for word in [\"requirement\", \"requirements\",\"documents\",\"required\"]):\n",
    "            return \"General admission requirements typically include academic transcripts, standardized test scores (such as SAT or ACT), letters of recommendation, and a personal statement. The specific requirements may vary by program. Would you like to know about requirements for a particular program?\"\n",
    "\n",
    "        elif any(word in user_tokens for word in [\"procedure\", \"process\", \"steps\"]):\n",
    "            return \"The admission process typically involves: 1) Researching programs and requirements, 2) Taking necessary standardized tests, 3) Submitting an online application, 4) Paying the application fee, 5) Sending in required documents (transcripts, test scores, etc.), 6) Writing a personal statement, and 7) Waiting for the admission decision. \"\n",
    "\n",
    "        elif any(word in user_tokens for word in [\"deadline\", \"deadlines\"]):\n",
    "            deadline_info = \"Deadlines vary depending on the program. Here are some examples:\\n\"\n",
    "            for program, details in self.programs.items():\n",
    "                deadline_info += f\"- {program.capitalize()}: {details['deadline']}\\n\"\n",
    "            deadline_info += \"Which program's deadline are you interested in?\"\n",
    "            return deadline_info\n",
    "\n",
    "        elif any(word in user_tokens for word in [\"fee\", \"cost\", \"payment\"]):\n",
    "            return \"The application fee is typically Rs.50-Rs.100, but it may vary depending on the program and whether you're applying as a domestic or international student. Some applicants might be eligible for fee waivers based on financial need.\"\n",
    "\n",
    "        # Program-Specific Information\n",
    "        for program, details in self.programs.items():\n",
    "            if any(keyword in user_tokens for keyword in details['keywords']):\n",
    "                self.context['program'] = program  # Remember the program for context\n",
    "                return f\"The {program.capitalize()} program deadline is {self.programs[program]['deadline']}. The requirements include {self.programs[program]['requirements']} Would you like to know about courses, faculty, or any other specific information for this program?\"\n",
    "\n",
    "        # Farewell messages\n",
    "        if any(word in user_tokens for word in [\"thank\", \"thanks\"]):\n",
    "            return \"You're welcome! I'm glad I could help. Is there anything else you'd like to know about our admissions process?\"\n",
    "\n",
    "        # Error Handling\n",
    "        self.context['concerns'].append(user_input)\n",
    "        return f\"I'm sorry, I couldn't understand your question. Could you please rephrase it or ask about a specific aspect of college admissions, such as requirements, deadlines, or application procedures for a particular program? You can also type 'help' to see what kind of information I can provide.\"\n",
    "\n",
    "    def get_help_message(self):\n",
    "        return \"\"\"\n",
    "        Here are some ways I can help you:\n",
    "        - Ask about admission requirements for specific programs\n",
    "        - Inquire about application deadlines\n",
    "        - Get information on the application process\n",
    "        - Learn about application fees and waivers\n",
    "        - Ask about specific programs like Engineering, Business, Computer Science, etc.\n",
    "        - Get details about courses and faculty for each program\n",
    "        Just ask your question, and I'll do my best to help!\n",
    "        \"\"\"\n"
   ]
  },
  {
   "cell_type": "code",
   "execution_count": null,
   "id": "2b30b1c6-1b60-45e2-89a1-cd1bd1467b7a",
   "metadata": {},
   "outputs": [
    {
     "name": "stdout",
     "output_type": "stream",
     "text": [
      "Welcome to College Admission Chatbot! How can I assist you today?\n"
     ]
    },
    {
     "name": "stdin",
     "output_type": "stream",
     "text": [
      "You:  What is the admission procedure?\n"
     ]
    },
    {
     "name": "stdout",
     "output_type": "stream",
     "text": [
      "Chatbot: The admission process typically involves: 1) Researching programs and requirements, 2) Taking necessary standardized tests, 3) Submitting an online application, 4) Paying the application fee, 5) Sending in required documents (transcripts, test scores, etc.), 6) Writing a personal statement, and 7) Waiting for the admission decision. \n"
     ]
    },
    {
     "name": "stdin",
     "output_type": "stream",
     "text": [
      "You:  What are the documents required?\n"
     ]
    },
    {
     "name": "stdout",
     "output_type": "stream",
     "text": [
      "Chatbot: General admission requirements typically include academic transcripts, standardized test scores (such as SAT or ACT), letters of recommendation, and a personal statement. The specific requirements may vary by program. Would you like to know about requirements for a particular program?\n"
     ]
    },
    {
     "name": "stdin",
     "output_type": "stream",
     "text": [
      "You:  What is the deadline?\n"
     ]
    },
    {
     "name": "stdout",
     "output_type": "stream",
     "text": [
      "Chatbot: Deadlines vary depending on the program. Here are some examples:\n",
      "- Engineering: September 15th\n",
      "- Business: September 28th\n",
      "- Computer science: September 1st\n",
      "- Medicine: September 1st\n",
      "- Law: September 20th\n",
      "- Psychology: September 5th\n",
      "- Arts: September 10th\n",
      "Which program's deadline are you interested in?\n"
     ]
    },
    {
     "name": "stdin",
     "output_type": "stream",
     "text": [
      "You:  I am interested in Medicinal program?\n"
     ]
    },
    {
     "name": "stdout",
     "output_type": "stream",
     "text": [
      "Chatbot: The Medicine program deadline is September 1st. The requirements include Academic transcripts with pre-med coursework, MCAT scores, letters of recommendation, and a personal statement describing your motivation for pursuing medicine. Would you like to know about courses, faculty, or any other specific information for this program?\n"
     ]
    },
    {
     "name": "stdin",
     "output_type": "stream",
     "text": [
      "You:  I want to know about the courses?\n"
     ]
    },
    {
     "name": "stdout",
     "output_type": "stream",
     "text": [
      "Chatbot: Some key courses in the Medicine program include: Anatomy, Physiology, Biochemistry, Medical Ethics. Would you like to know about the faculty?\n"
     ]
    },
    {
     "name": "stdin",
     "output_type": "stream",
     "text": [
      "You:  I want to know about the faculty?\n"
     ]
    },
    {
     "name": "stdout",
     "output_type": "stream",
     "text": [
      "Chatbot: Key faculty members in the Medicine program include: Dr. Robert Chen (Neurology), Dr. Lisa Patel (Cardiology). Is there anything else you'd like to know about this program?\n"
     ]
    },
    {
     "name": "stdin",
     "output_type": "stream",
     "text": [
      "You:  What is the admission fee?\n"
     ]
    },
    {
     "name": "stdout",
     "output_type": "stream",
     "text": [
      "Chatbot: The application fee is typically Rs.50-Rs.100, but it may vary depending on the program and whether you're applying as a domestic or international student. Some applicants might be eligible for fee waivers based on financial need.\n"
     ]
    },
    {
     "name": "stdin",
     "output_type": "stream",
     "text": [
      "You:  Thank you\n"
     ]
    },
    {
     "name": "stdout",
     "output_type": "stream",
     "text": [
      "Chatbot: You're welcome! I'm glad I could help. Is there anything else you'd like to know about our admissions process?\n"
     ]
    }
   ],
   "source": [
    "if __name__ == \"__main__\":\n",
    "    chatbot = AdmissionChatbot()\n",
    "    chatbot.start_conversation()"
   ]
  },
  {
   "cell_type": "code",
   "execution_count": null,
   "id": "61a97464-2dc8-4b3a-9961-c22ce2dfd747",
   "metadata": {},
   "outputs": [],
   "source": []
  }
 ],
 "metadata": {
  "kernelspec": {
   "display_name": "Python 3 (ipykernel)",
   "language": "python",
   "name": "python3"
  },
  "language_info": {
   "codemirror_mode": {
    "name": "ipython",
    "version": 3
   },
   "file_extension": ".py",
   "mimetype": "text/x-python",
   "name": "python",
   "nbconvert_exporter": "python",
   "pygments_lexer": "ipython3",
   "version": "3.12.4"
  }
 },
 "nbformat": 4,
 "nbformat_minor": 5
}
